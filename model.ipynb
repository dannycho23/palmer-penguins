{
  "cells": [
    {
      "cell_type": "code",
      "metadata": {},
      "source": [
        "from palmerpenguins import penguins\n",
        "from palmerpenguins import load_penguins\n",
        "from pandas import get_dummies\n",
        "import numpy as np\n",
        "from sklearn.linear_model import LinearRegression\n",
        "from sklearn import preprocessing"
      ],
      "id": "0125f667",
      "execution_count": null,
      "outputs": []
    },
    {
      "cell_type": "code",
      "metadata": {},
      "source": [
        "df = penguins.load_penguins().dropna()\n",
        "\n",
        "df.head(3)"
      ],
      "id": "66255280",
      "execution_count": null,
      "outputs": []
    },
    {
      "cell_type": "code",
      "metadata": {},
      "source": [
        "X = get_dummies(df[['bill_length_mm', 'species', 'sex']], drop_first = True)\n",
        "y = df['body_mass_g']\n",
        "\n",
        "model = LinearRegression().fit(X, y)"
      ],
      "id": "72862aaf",
      "execution_count": null,
      "outputs": []
    },
    {
      "cell_type": "code",
      "metadata": {},
      "source": [
        "print(f\"R^2 {model.score(X,y)}\")\n",
        "print(f\"Intercept {model.intercept_}\")\n",
        "print(f\"Columns {X.columns}\")\n",
        "print(f\"Coefficients {model.coef_}\")\n",
        "\n",
        "\n",
        "## END OF LAB 1 MODEL CREATION"
      ],
      "id": "34370820",
      "execution_count": null,
      "outputs": []
    },
    {
      "cell_type": "code",
      "metadata": {},
      "source": [
        "## LAB 2\n",
        "from vetiver import VetiverModel, vetiver_pin_write, VetiverAPI\n",
        "from pins import board_folder\n",
        "\n",
        "# Create a VetiverModel instance\n",
        "v = VetiverModel(model, model_name=\"penguin_weight_predictor\", prototype_data=df[['bill_length_mm', 'species', 'sex']])\n",
        "\n",
        "# Set up a board and write the model to it\n",
        "model_board = board_folder(\"data/model\", allow_pickle_read=True)\n",
        "vetiver_pin_write(model_board, v)\n",
        "\n",
        "# Create and run the API on a different port if 8080 is in use\n",
        "app = VetiverAPI(v, check_prototype=True)\n",
        "try:\n",
        "    app.run(port=8082)  # Change port number to avoid conflict\n",
        "except Exception as e:\n",
        "    print(f\"Failed to start server: {e}\")\n",
        "\n",
        "## LAB 3\n",
        "# Connect to DuckDB and perform operations\n",
        "con = duckdb.connect('my-db.duckdb')\n",
        "con.execute(\"CREATE TABLE IF NOT EXISTS penguins AS SELECT * FROM load_penguins()\")\n",
        "df = con.execute(\"SELECT * FROM penguins\").fetchdf().dropna()\n",
        "con.close()"
      ],
      "id": "0c75f93a",
      "execution_count": null,
      "outputs": []
    }
  ],
  "metadata": {
    "kernelspec": {
      "name": "python3",
      "language": "python",
      "display_name": "Python 3 (ipykernel)"
    }
  },
  "nbformat": 4,
  "nbformat_minor": 5
}